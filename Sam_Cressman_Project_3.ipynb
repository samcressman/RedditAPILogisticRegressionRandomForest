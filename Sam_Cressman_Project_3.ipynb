{
 "cells": [
  {
   "cell_type": "markdown",
   "metadata": {
    "focus": false,
    "id": "69b9a648-bcc7-490d-9f9b-ea244d156bd6"
   },
   "source": [
    "# Using Reddit's API for Predicting Comments"
   ]
  },
  {
   "cell_type": "markdown",
   "metadata": {},
   "source": [
    "__[Slide Deck](https://docs.google.com/presentation/d/1Z3fYTsvtKYYh2dGTeKLHheFq0gRuY-X3BiD1SDbcZDA/edit#slide=id.p)__"
   ]
  },
  {
   "cell_type": "markdown",
   "metadata": {
    "ExecuteTime": {
     "end_time": "2017-10-23T19:28:02.619411Z",
     "start_time": "2017-10-23T19:28:02.600856Z"
    }
   },
   "source": [
    "In this project, we will practice two major skills. Collecting data via an API request and then building a binary predictor.\n",
    "\n",
    "As we discussed in week 2, and earlier today, there are two components to starting a data science problem: the problem statement, and acquiring the data.\n",
    "\n",
    "For this article, your problem statement will be: _What characteristics of a post on Reddit contribute most to the overall interaction (as measured by number of comments)?_\n",
    "\n",
    "Your method for acquiring the data will be scraping the 'hot' threads as listed on the [Reddit homepage](https://www.reddit.com/). You'll acquire _AT LEAST FOUR_ pieces of information about each thread:\n",
    "1. The title of the thread\n",
    "2. The subreddit that the thread corresponds to\n",
    "3. The length of time it has been up on Reddit\n",
    "4. The number of comments on the thread\n",
    "\n",
    "Once you've got the data, you will build a classification model that, using Natural Language Processing and any other relevant features, predicts whether or not a given Reddit post will have above or below the _median_ number of comments."
   ]
  },
  {
   "cell_type": "code",
   "execution_count": 1,
   "metadata": {},
   "outputs": [],
   "source": [
    "import requests\n",
    "import json\n",
    "from bs4 import BeautifulSoup\n",
    "import time\n",
    "import pandas as pd\n",
    "import numpy as np\n",
    "from matplotlib import pyplot as plt\n",
    "import seaborn as sns\n",
    "from sklearn.model_selection import train_test_split, cross_val_score, GridSearchCV\n",
    "from sklearn.linear_model import LogisticRegression\n",
    "from sklearn.feature_extraction.text import CountVectorizer, TfidfVectorizer\n",
    "from sklearn.preprocessing import StandardScaler\n",
    "from sklearn.tree import DecisionTreeClassifier\n",
    "from sklearn.ensemble import RandomForestClassifier"
   ]
  },
  {
   "cell_type": "markdown",
   "metadata": {
    "focus": false,
    "id": "a948d79c-5527-4c0d-ab23-f5d43ce72056"
   },
   "source": [
    "### Scraping Thread Info from Reddit.com"
   ]
  },
  {
   "cell_type": "markdown",
   "metadata": {},
   "source": [
    "#### Set up a request (using requests) to the URL below. \n",
    "\n",
    "*NOTE*: Reddit will throw a [429 error](https://httpstatuses.com/429) when using the following code:\n",
    "```python\n",
    "res = requests.get(URL)\n",
    "```\n",
    "\n",
    "This is because Reddit has throttled python's default user agent. You'll need to set a custom `User-agent` to get your request to work.\n",
    "```python\n",
    "res = requests.get(URL, headers={'User-agent': 'YOUR NAME Bot 0.1'})\n",
    "```"
   ]
  },
  {
   "cell_type": "code",
   "execution_count": null,
   "metadata": {},
   "outputs": [],
   "source": [
    "URL = \"http://www.reddit.com/hot.json\""
   ]
  },
  {
   "cell_type": "code",
   "execution_count": null,
   "metadata": {},
   "outputs": [],
   "source": [
    "res = requests.get(URL, headers={\"User-agent\": \"Sam Cressman Bot 0.1\"})"
   ]
  },
  {
   "cell_type": "markdown",
   "metadata": {},
   "source": [
    "#### Use `res.json()` to convert the response into a dictionary format and set this to a variable. \n",
    "\n",
    "```python\n",
    "data = res.json()\n",
    "```"
   ]
  },
  {
   "cell_type": "code",
   "execution_count": null,
   "metadata": {
    "scrolled": false
   },
   "outputs": [],
   "source": [
    "reddits = res.json()\n",
    "reddits;"
   ]
  },
  {
   "cell_type": "code",
   "execution_count": null,
   "metadata": {},
   "outputs": [],
   "source": [
    "reddits.keys();"
   ]
  },
  {
   "cell_type": "code",
   "execution_count": null,
   "metadata": {},
   "outputs": [],
   "source": [
    "# EDA\n",
    "reddits[\"data\"].keys();"
   ]
  },
  {
   "cell_type": "code",
   "execution_count": null,
   "metadata": {},
   "outputs": [],
   "source": [
    "# Keys: data, kind\n",
    "reddits[\"data\"][\"after\"];"
   ]
  },
  {
   "cell_type": "code",
   "execution_count": null,
   "metadata": {},
   "outputs": [],
   "source": [
    "print(len(reddits['data']['children']));"
   ]
  },
  {
   "cell_type": "markdown",
   "metadata": {},
   "source": [
    "#### Getting more results\n",
    "\n",
    "By default, Reddit will give you the top 25 posts:\n",
    "\n",
    "```python\n",
    "print(len(data['data']['children']))\n",
    "```\n",
    "\n",
    "If you want more, you'll need to do two things:\n",
    "1. Get the name of the last post: `data['data']['after']`\n",
    "2. Use that name to hit the following url: `http://www.reddit.com/hot.json?after=THE_AFTER_FROM_STEP_1`\n",
    "3. Create a loop to repeat steps 1 and 2 until you have a sufficient number of posts. \n",
    "\n",
    "*NOTE*: Reddit will limit the number of requests per second you're allowed to make. When you create your loop, be sure to add the following after each iteration.\n",
    "\n",
    "```python\n",
    "time.sleep(3) # sleeps 3 seconds before continuing```\n",
    "\n",
    "This will throttle your loop and keep you within Reddit's guidelines. You'll need to import the `time` library for this to work!"
   ]
  },
  {
   "cell_type": "code",
   "execution_count": null,
   "metadata": {},
   "outputs": [],
   "source": [
    "reddits[\"data\"][\"after\"]\n",
    "\n",
    "# id of the last post on the page "
   ]
  },
  {
   "cell_type": "code",
   "execution_count": null,
   "metadata": {},
   "outputs": [],
   "source": [
    "URL = \"http://www.reddit.com/hot.json\"\n",
    "\n",
    "num_pages = 100\n",
    "\n",
    "reddit_posts = []\n",
    "\n",
    "after = None\n",
    "\n",
    "for _ in range(num_pages):\n",
    "    req_url = URL + \"?after=\" + after if after else URL\n",
    "    res = requests.get(req_url, headers={\"User-agent\": \"Sam Cressman Bot 0.1\"})\n",
    "    \n",
    "    data = res.json()[\"data\"]\n",
    "    children = data[\"children\"]\n",
    "    after = data[\"after\"]\n",
    "    time.sleep(3)\n",
    "    \n",
    "    for j in range(len(children)):\n",
    "        post = children[j][\"data\"]\n",
    "        reddit_posts.append(post)    "
   ]
  },
  {
   "cell_type": "code",
   "execution_count": null,
   "metadata": {},
   "outputs": [],
   "source": [
    "scrape_1 = pd.DataFrame(reddit_posts)"
   ]
  },
  {
   "cell_type": "code",
   "execution_count": null,
   "metadata": {},
   "outputs": [],
   "source": [
    "# Created \"time fetched\" and \"post age\" features\n",
    "\n",
    "scrape_1[\"time_fetched\"] = pd.Timestamp.now()\n",
    "scrape_1[\"time_fetched\"].head();"
   ]
  },
  {
   "cell_type": "code",
   "execution_count": null,
   "metadata": {},
   "outputs": [],
   "source": [
    "scrape_1[\"created_utc\"] = pd.to_datetime(scrape_1[\"created_utc\"], unit=\"s\")\n",
    "scrape_1[\"created_utc\"].head();"
   ]
  },
  {
   "cell_type": "code",
   "execution_count": null,
   "metadata": {},
   "outputs": [],
   "source": [
    "scrape_1[\"post_age\"] = scrape_1[\"created_utc\"] - scrape_1[\"time_fetched\"]"
   ]
  },
  {
   "cell_type": "code",
   "execution_count": null,
   "metadata": {},
   "outputs": [],
   "source": [
    "scrape_1[\"post_age\"] = scrape_1[\"post_age\"].dt.seconds / 3600"
   ]
  },
  {
   "cell_type": "code",
   "execution_count": null,
   "metadata": {},
   "outputs": [],
   "source": [
    "scrape_1[\"post_age\"].head();"
   ]
  },
  {
   "cell_type": "markdown",
   "metadata": {
    "focus": false,
    "id": "c7631f51-07f2-4c79-a093-3e9bc7849a48"
   },
   "source": [
    "#### We want to predict a binary variable - whether the number of comments was low or high. Compute the median number of comments and create a new binary variable that is true when the number of comments is high (above the median)\n",
    "\n",
    "We could also perform Linear Regression (or any regression) to predict the number of comments here. Instead, we are going to convert this into a _binary_ classification problem, by predicting two classes, HIGH vs LOW number of comments.\n",
    "\n",
    "While performing regression may be better, performing classification may help remove some of the noise of the extremely popular threads. We don't _have_ to choose the `median` as the splitting point - we could also split on the 75th percentile or any other reasonable breaking point.\n",
    "\n",
    "In fact, the ideal scenario may be to predict many levels of comment numbers. "
   ]
  },
  {
   "cell_type": "code",
   "execution_count": null,
   "metadata": {},
   "outputs": [],
   "source": [
    "median_comments = scrape_1[\"num_comments\"].median()\n",
    "median_comments"
   ]
  },
  {
   "cell_type": "code",
   "execution_count": null,
   "metadata": {},
   "outputs": [],
   "source": [
    "scrape_1[\"above_median_comments\"] = np.where(scrape_1[\"num_comments\"] > median_comments, 1, 0)"
   ]
  },
  {
   "cell_type": "markdown",
   "metadata": {
    "focus": false,
    "id": "43e71edd-210e-42b1-9336-70a931f048af"
   },
   "source": [
    "### Save your results as a CSV\n",
    "You may do this regularly while scraping data as well, so that if your scraper stops of your computer crashes, you don't lose all your data."
   ]
  },
  {
   "cell_type": "code",
   "execution_count": null,
   "metadata": {},
   "outputs": [],
   "source": [
    "scrape_csv = scrape_1.to_csv(\"scrape.csv\")"
   ]
  },
  {
   "cell_type": "code",
   "execution_count": 2,
   "metadata": {},
   "outputs": [],
   "source": [
    "scrape_1_df = pd.read_csv(\"scrape.csv\")"
   ]
  },
  {
   "cell_type": "markdown",
   "metadata": {},
   "source": [
    "## (Optional) Collect more information\n",
    "\n",
    "While we only require you to collect four features, there may be other info that you can find on the results page that might be useful. Feel free to write more functions so that you have more interesting and useful data."
   ]
  },
  {
   "cell_type": "markdown",
   "metadata": {},
   "source": [
    "I collected all JSON dictionary keys/values from 2500 posts in order to determine potential additional features before modeling."
   ]
  },
  {
   "cell_type": "markdown",
   "metadata": {},
   "source": [
    "### Exploratory Data Analysis (EDA)"
   ]
  },
  {
   "cell_type": "code",
   "execution_count": 5,
   "metadata": {},
   "outputs": [],
   "source": [
    "scrape_1_df.columns;"
   ]
  },
  {
   "cell_type": "code",
   "execution_count": 136,
   "metadata": {},
   "outputs": [],
   "source": [
    "# scrape_1_df.info();"
   ]
  },
  {
   "cell_type": "code",
   "execution_count": 7,
   "metadata": {},
   "outputs": [],
   "source": [
    "scrape_1_df.head(5);"
   ]
  },
  {
   "cell_type": "code",
   "execution_count": 8,
   "metadata": {},
   "outputs": [
    {
     "data": {
      "text/plain": [
       "13.356007888888897"
      ]
     },
     "execution_count": 8,
     "metadata": {},
     "output_type": "execute_result"
    }
   ],
   "source": [
    "scrape_1_df[\"post_age\"].mean()"
   ]
  },
  {
   "cell_type": "code",
   "execution_count": 167,
   "metadata": {},
   "outputs": [
    {
     "data": {
      "text/plain": [
       "Text(0,0.5,'Count of Posts')"
      ]
     },
     "execution_count": 167,
     "metadata": {},
     "output_type": "execute_result"
    },
    {
     "data": {
      "image/png": "[encoded data removed]",
      "text/plain": [
       "<matplotlib.figure.Figure at 0x1a32e8eda0>"
      ]
     },
     "metadata": {},
     "output_type": "display_data"
    }
   ],
   "source": [
    "sns.distplot(scrape_1_df[\"post_age\"], kde=False)\n",
    "plt.title(\"Hot Posts Appear To Be Very Recent Or About A Day Old\")\n",
    "plt.xlabel(\"Post Age in Hours\")\n",
    "plt.ylabel(\"Count of Posts\")"
   ]
  },
  {
   "cell_type": "code",
   "execution_count": 141,
   "metadata": {},
   "outputs": [],
   "source": [
    "num_mean_comments_by_subreddit = scrape_1_df.groupby(\"subreddit\").num_comments.mean().sort_values(ascending=False).head(10)\n",
    "num_mean_comments_by_subreddit\n",
    "\n",
    "num_mean_comments_by_subreddit = num_mean_comments_by_subreddit.sort_values(ascending=True);"
   ]
  },
  {
   "cell_type": "code",
   "execution_count": 168,
   "metadata": {},
   "outputs": [
    {
     "data": {
      "text/plain": [
       "Text(0.5,0,'Average Comments')"
      ]
     },
     "execution_count": 168,
     "metadata": {},
     "output_type": "execute_result"
    },
    {
     "data": {
      "image/png": "[encoded data removed]",
      "text/plain": [
       "<matplotlib.figure.Figure at 0x1a333de898>"
      ]
     },
     "metadata": {},
     "output_type": "display_data"
    }
   ],
   "source": [
    "num_mean_comments_by_subreddit.plot.barh(color=\"blue\")\n",
    "\n",
    "plt.title(\"It Appears That Some Subreddits Comment More Than Others On Average\")\n",
    "plt.xlabel(\"Average Comments\")"
   ]
  },
  {
   "cell_type": "code",
   "execution_count": 143,
   "metadata": {},
   "outputs": [],
   "source": [
    "num_mean_ups_by_subreddit = scrape_1_df.groupby(\"subreddit\").ups.mean().sort_values(ascending=False).head(10)\n",
    "num_mean_ups_by_subreddit\n",
    "\n",
    "num_mean_ups_by_subreddit = num_mean_comments_by_subreddit.sort_values(ascending=True);"
   ]
  },
  {
   "cell_type": "code",
   "execution_count": 144,
   "metadata": {},
   "outputs": [
    {
     "data": {
      "text/plain": [
       "Text(0,0.5,'Subreddit')"
      ]
     },
     "execution_count": 144,
     "metadata": {},
     "output_type": "execute_result"
    },
    {
     "data": {
      "image/png": "[encoded data removed]",
      "text/plain": [
       "<matplotlib.figure.Figure at 0x1a2eed6a58>"
      ]
     },
     "metadata": {},
     "output_type": "display_data"
    }
   ],
   "source": [
    "num_mean_ups_by_subreddit.plot.barh(color=\"blue\")\n",
    "\n",
    "plt.title(\"Top 10 Subreddits by Average Ups Per Post\")\n",
    "plt.xlabel(\"Average Ups\")\n",
    "plt.ylabel(\"Subreddit\")"
   ]
  },
  {
   "cell_type": "code",
   "execution_count": 145,
   "metadata": {},
   "outputs": [],
   "source": [
    "top_subreddit_posts_counts = scrape_1_df[\"subreddit\"].value_counts().head(10)\n",
    "top_subreddit_posts_counts\n",
    "\n",
    "top_subreddit_posts_counts = top_subreddit_posts_counts.sort_values(ascending=True);"
   ]
  },
  {
   "cell_type": "code",
   "execution_count": 146,
   "metadata": {},
   "outputs": [
    {
     "data": {
      "text/plain": [
       "Text(0,0.5,'Subreddit')"
      ]
     },
     "execution_count": 146,
     "metadata": {},
     "output_type": "execute_result"
    },
    {
     "data": {
      "image/png": "[encoded data removed]",
      "text/plain": [
       "<matplotlib.figure.Figure at 0x1a2d188278>"
      ]
     },
     "metadata": {},
     "output_type": "display_data"
    }
   ],
   "source": [
    "top_subreddit_posts_counts.plot.barh(color=\"blue\")\n",
    "\n",
    "plt.title(\"Top 10 Subreddits by Number of Hot Posts\")\n",
    "plt.xlabel(\"Count of Posts\")\n",
    "plt.ylabel(\"Subreddit\")"
   ]
  },
  {
   "cell_type": "code",
   "execution_count": 147,
   "metadata": {},
   "outputs": [
    {
     "data": {
      "text/plain": [
       "Text(0,0.5,'Count of Subreddits')"
      ]
     },
     "execution_count": 147,
     "metadata": {},
     "output_type": "execute_result"
    },
    {
     "data": {
      "image/png": "[encoded data removed]",
      "text/plain": [
       "<matplotlib.figure.Figure at 0x1a31fc15c0>"
      ]
     },
     "metadata": {},
     "output_type": "display_data"
    }
   ],
   "source": [
    "scrape_1_df[\"subreddit\"].value_counts().plot(kind=\"hist\", color=\"blue\")\n",
    "plt.title(\"Hot Posts Per Subreddit\")\n",
    "plt.xlabel(\"Numer of Hot Posts\")\n",
    "plt.ylabel(\"Count of Subreddits\")"
   ]
  },
  {
   "cell_type": "code",
   "execution_count": 148,
   "metadata": {},
   "outputs": [],
   "source": [
    "most_subreddit_subscribers = scrape_1_df.groupby(\"subreddit\").subreddit_subscribers.max().sort_values(ascending=False).head(10)\n",
    "most_subreddit_subscribers.head(20)\n",
    "\n",
    "most_subreddit_subscribers = most_subreddit_subscribers.sort_values(ascending=True);"
   ]
  },
  {
   "cell_type": "code",
   "execution_count": 170,
   "metadata": {},
   "outputs": [
    {
     "data": {
      "text/plain": [
       "Text(0,0.5,'Subreddit')"
      ]
     },
     "execution_count": 170,
     "metadata": {},
     "output_type": "execute_result"
    },
    {
     "data": {
      "image/png": "[encoded data removed]",
      "text/plain": [
       "<matplotlib.figure.Figure at 0x1a334e2e80>"
      ]
     },
     "metadata": {},
     "output_type": "display_data"
    }
   ],
   "source": [
    "most_subreddit_subscribers.plot.barh(color=\"blue\")\n",
    "\n",
    "plt.title(\"Top 10 Subscribed Subreddits\")\n",
    "plt.xlabel(\"Number of Subscribers: 1 = 10M\")\n",
    "plt.ylabel(\"Subreddit\")"
   ]
  },
  {
   "cell_type": "code",
   "execution_count": 151,
   "metadata": {},
   "outputs": [],
   "source": [
    "mean_score_by_subreddit = scrape_1_df.groupby(\"subreddit\").score.mean().sort_values(ascending=False).head(10)\n",
    "mean_score_by_subreddit\n",
    "\n",
    "mean_score_by_subreddit = mean_score_by_subreddit.sort_values(ascending=True);"
   ]
  },
  {
   "cell_type": "code",
   "execution_count": 169,
   "metadata": {},
   "outputs": [
    {
     "data": {
      "text/plain": [
       "Text(0,0.5,'Subreddit')"
      ]
     },
     "execution_count": 169,
     "metadata": {},
     "output_type": "execute_result"
    },
    {
     "data": {
      "image/png": "[encoded data removed]",
      "text/plain": [
       "<matplotlib.figure.Figure at 0x1a32980cc0>"
      ]
     },
     "metadata": {},
     "output_type": "display_data"
    }
   ],
   "source": [
    "mean_score_by_subreddit.plot.barh(color=\"blue\")\n",
    "\n",
    "plt.title(\"Some Subreddits Appear On Average To Give Higher Scores to Posts\")\n",
    "plt.xlabel(\"Average Score\")\n",
    "plt.ylabel(\"Subreddit\")"
   ]
  },
  {
   "cell_type": "code",
   "execution_count": 21,
   "metadata": {},
   "outputs": [],
   "source": [
    "# Examining top 100 posts vs. top 2500 posts\n",
    "\n",
    "top_100_scrape_1_df = scrape_1_df.head(100)\n",
    "top_100_scrape_1_df;"
   ]
  },
  {
   "cell_type": "code",
   "execution_count": 22,
   "metadata": {},
   "outputs": [
    {
     "data": {
      "text/plain": [
       "(259.5, 26.0)"
      ]
     },
     "execution_count": 22,
     "metadata": {},
     "output_type": "execute_result"
    }
   ],
   "source": [
    "top_100_scrape_1_df.num_comments.median(), scrape_1_df.num_comments.median()"
   ]
  },
  {
   "cell_type": "code",
   "execution_count": 102,
   "metadata": {},
   "outputs": [
    {
     "data": {
      "text/plain": [
       "(707.75, 106.4152)"
      ]
     },
     "execution_count": 102,
     "metadata": {},
     "output_type": "execute_result"
    }
   ],
   "source": [
    "top_100_scrape_1_df.num_comments.mean(), scrape_1_df.num_comments.mean()"
   ]
  },
  {
   "cell_type": "code",
   "execution_count": 24,
   "metadata": {},
   "outputs": [
    {
     "data": {
      "text/plain": [
       "(10282, 10282)"
      ]
     },
     "execution_count": 24,
     "metadata": {},
     "output_type": "execute_result"
    }
   ],
   "source": [
    "top_100_scrape_1_df.num_comments.max(), scrape_1_df.num_comments.max()"
   ]
  },
  {
   "cell_type": "code",
   "execution_count": 25,
   "metadata": {},
   "outputs": [
    {
     "data": {
      "text/plain": [
       "(26, 0)"
      ]
     },
     "execution_count": 25,
     "metadata": {},
     "output_type": "execute_result"
    }
   ],
   "source": [
    "top_100_scrape_1_df.num_comments.min(), scrape_1_df.num_comments.min()"
   ]
  },
  {
   "cell_type": "code",
   "execution_count": 105,
   "metadata": {},
   "outputs": [],
   "source": [
    "mask = scrape_1_df[scrape_1_df[\"num_comments\"] == 26]\n",
    "mask[[\"title\", \"num_comments\", \"ups\"]];"
   ]
  },
  {
   "cell_type": "code",
   "execution_count": 109,
   "metadata": {},
   "outputs": [],
   "source": [
    "mask = scrape_1_df[scrape_1_df[\"num_comments\"] == 0]\n",
    "len(mask[[\"title\", \"num_comments\", \"ups\", \"score\", \"subreddit\"]])\n",
    "mask[[\"title\", \"num_comments\", \"ups\", \"score\", \"subreddit\"]];"
   ]
  },
  {
   "cell_type": "code",
   "execution_count": 23,
   "metadata": {},
   "outputs": [
    {
     "data": {
      "text/plain": [
       "(97, 1855)"
      ]
     },
     "execution_count": 23,
     "metadata": {},
     "output_type": "execute_result"
    }
   ],
   "source": [
    "top_100_scrape_1_df.subreddit.nunique(), scrape_1_df.subreddit.nunique()"
   ]
  },
  {
   "cell_type": "code",
   "execution_count": 26,
   "metadata": {},
   "outputs": [
    {
     "data": {
      "text/plain": [
       "(80482, 80482)"
      ]
     },
     "execution_count": 26,
     "metadata": {},
     "output_type": "execute_result"
    }
   ],
   "source": [
    "top_100_scrape_1_df.score.max(), scrape_1_df.score.max()"
   ]
  },
  {
   "cell_type": "code",
   "execution_count": 114,
   "metadata": {},
   "outputs": [],
   "source": [
    "mask = scrape_1_df[scrape_1_df[\"score\"] > 80000]\n",
    "mask[[\"title\", \"num_comments\", \"ups\", \"score\", \"subreddit\"]];"
   ]
  },
  {
   "cell_type": "code",
   "execution_count": 27,
   "metadata": {},
   "outputs": [
    {
     "data": {
      "text/plain": [
       "(1604, 29)"
      ]
     },
     "execution_count": 27,
     "metadata": {},
     "output_type": "execute_result"
    }
   ],
   "source": [
    "top_100_scrape_1_df.score.min(), scrape_1_df.score.min()"
   ]
  },
  {
   "cell_type": "markdown",
   "metadata": {
    "focus": false,
    "id": "0ef04f32-419c-4bf2-baf7-48201f03df89"
   },
   "source": [
    "#### Create a few new variables in your dataframe to represent interesting features of a thread title (see below)\n",
    "- For example, create a feature that represents whether 'cat' is in the title or whether 'funny' is in the title. \n",
    "- Then build a new Random Forest with these features. Do they add any value?\n",
    "- After creating these variables, use count-vectorizer to create features based on the words in the thread titles.\n",
    "- Build a new random forest model with subreddit and these new features included."
   ]
  },
  {
   "cell_type": "code",
   "execution_count": 30,
   "metadata": {},
   "outputs": [],
   "source": [
    "# Feature engineering: created a feature for if a title contains the word \"funny\"\n",
    "\n",
    "scrape_1_df[\"is_funny_title\"] = np.where(scrape_1_df[\"title\"].str.contains(\"funny\"), 1, 0)"
   ]
  },
  {
   "cell_type": "code",
   "execution_count": 31,
   "metadata": {},
   "outputs": [],
   "source": [
    "# Feature engineering: created a feature for if a title contains the word \"puppy\"\n",
    "\n",
    "scrape_1_df[\"puppy_title\"] = np.where(scrape_1_df[\"title\"].str.contains(\"puppy\"), 1, 0)"
   ]
  },
  {
   "cell_type": "code",
   "execution_count": 32,
   "metadata": {},
   "outputs": [
    {
     "data": {
      "text/html": [
       "<div>\n",
       "<style scoped>\n",
       "    .dataframe tbody tr th:only-of-type {\n",
       "        vertical-align: middle;\n",
       "    }\n",
       "\n",
       "    .dataframe tbody tr th {\n",
       "        vertical-align: top;\n",
       "    }\n",
       "\n",
       "    .dataframe thead th {\n",
       "        text-align: right;\n",
       "    }\n",
       "</style>\n",
       "<table border=\"1\" class=\"dataframe\">\n",
       "  <thead>\n",
       "    <tr style=\"text-align: right;\">\n",
       "      <th></th>\n",
       "      <th>subreddit</th>\n",
       "      <th>post_age</th>\n",
       "      <th>num_comments</th>\n",
       "      <th>above_median_comments</th>\n",
       "      <th>ups</th>\n",
       "      <th>gilded</th>\n",
       "      <th>num_crossposts</th>\n",
       "      <th>score</th>\n",
       "      <th>subreddit_subscribers</th>\n",
       "      <th>is_funny_title</th>\n",
       "      <th>puppy_title</th>\n",
       "    </tr>\n",
       "  </thead>\n",
       "  <tbody>\n",
       "    <tr>\n",
       "      <th>0</th>\n",
       "      <td>sports</td>\n",
       "      <td>3.436667</td>\n",
       "      <td>638</td>\n",
       "      <td>1</td>\n",
       "      <td>21835</td>\n",
       "      <td>0</td>\n",
       "      <td>3</td>\n",
       "      <td>21835</td>\n",
       "      <td>13388430</td>\n",
       "      <td>0</td>\n",
       "      <td>0</td>\n",
       "    </tr>\n",
       "    <tr>\n",
       "      <th>1</th>\n",
       "      <td>BlackPeopleTwitter</td>\n",
       "      <td>2.866389</td>\n",
       "      <td>763</td>\n",
       "      <td>1</td>\n",
       "      <td>24591</td>\n",
       "      <td>0</td>\n",
       "      <td>2</td>\n",
       "      <td>24591</td>\n",
       "      <td>1736233</td>\n",
       "      <td>0</td>\n",
       "      <td>0</td>\n",
       "    </tr>\n",
       "    <tr>\n",
       "      <th>2</th>\n",
       "      <td>todayilearned</td>\n",
       "      <td>2.263611</td>\n",
       "      <td>1029</td>\n",
       "      <td>1</td>\n",
       "      <td>43666</td>\n",
       "      <td>0</td>\n",
       "      <td>0</td>\n",
       "      <td>43666</td>\n",
       "      <td>18838502</td>\n",
       "      <td>0</td>\n",
       "      <td>0</td>\n",
       "    </tr>\n",
       "    <tr>\n",
       "      <th>3</th>\n",
       "      <td>aww</td>\n",
       "      <td>2.418889</td>\n",
       "      <td>205</td>\n",
       "      <td>1</td>\n",
       "      <td>18014</td>\n",
       "      <td>0</td>\n",
       "      <td>0</td>\n",
       "      <td>18014</td>\n",
       "      <td>17212058</td>\n",
       "      <td>0</td>\n",
       "      <td>0</td>\n",
       "    </tr>\n",
       "    <tr>\n",
       "      <th>4</th>\n",
       "      <td>wholesomememes</td>\n",
       "      <td>1.941389</td>\n",
       "      <td>162</td>\n",
       "      <td>1</td>\n",
       "      <td>36050</td>\n",
       "      <td>0</td>\n",
       "      <td>5</td>\n",
       "      <td>36050</td>\n",
       "      <td>1496127</td>\n",
       "      <td>0</td>\n",
       "      <td>0</td>\n",
       "    </tr>\n",
       "  </tbody>\n",
       "</table>\n",
       "</div>"
      ],
      "text/plain": [
       "            subreddit  post_age  num_comments  above_median_comments    ups  \\\n",
       "0              sports  3.436667           638                      1  21835   \n",
       "1  BlackPeopleTwitter  2.866389           763                      1  24591   \n",
       "2       todayilearned  2.263611          1029                      1  43666   \n",
       "3                 aww  2.418889           205                      1  18014   \n",
       "4      wholesomememes  1.941389           162                      1  36050   \n",
       "\n",
       "   gilded  num_crossposts  score  subreddit_subscribers  is_funny_title  \\\n",
       "0       0               3  21835               13388430               0   \n",
       "1       0               2  24591                1736233               0   \n",
       "2       0               0  43666               18838502               0   \n",
       "3       0               0  18014               17212058               0   \n",
       "4       0               5  36050                1496127               0   \n",
       "\n",
       "   puppy_title  \n",
       "0            0  \n",
       "1            0  \n",
       "2            0  \n",
       "3            0  \n",
       "4            0  "
      ]
     },
     "execution_count": 32,
     "metadata": {},
     "output_type": "execute_result"
    }
   ],
   "source": [
    "# Created a DataFrame of just numeric/dummy features which will be concated with my title features\n",
    "\n",
    "scrape_1_df_numeric = scrape_1_df[[\"subreddit\", \"post_age\", \"num_comments\",\n",
    "                                   \"above_median_comments\", \"ups\", \"gilded\",\n",
    "                                   \"num_crossposts\", \"score\", \"subreddit_subscribers\", \n",
    "                                   \"is_funny_title\", \"puppy_title\"]]\n",
    "\n",
    "scrape_1_df_numeric.head()"
   ]
  },
  {
   "cell_type": "code",
   "execution_count": 33,
   "metadata": {},
   "outputs": [
    {
     "data": {
      "text/html": [
       "<div>\n",
       "<style scoped>\n",
       "    .dataframe tbody tr th:only-of-type {\n",
       "        vertical-align: middle;\n",
       "    }\n",
       "\n",
       "    .dataframe tbody tr th {\n",
       "        vertical-align: top;\n",
       "    }\n",
       "\n",
       "    .dataframe thead th {\n",
       "        text-align: right;\n",
       "    }\n",
       "</style>\n",
       "<table border=\"1\" class=\"dataframe\">\n",
       "  <thead>\n",
       "    <tr style=\"text-align: right;\">\n",
       "      <th></th>\n",
       "      <th>post_age</th>\n",
       "      <th>num_comments</th>\n",
       "      <th>above_median_comments</th>\n",
       "      <th>ups</th>\n",
       "      <th>gilded</th>\n",
       "      <th>num_crossposts</th>\n",
       "      <th>score</th>\n",
       "      <th>subreddit_subscribers</th>\n",
       "      <th>is_funny_title</th>\n",
       "      <th>puppy_title</th>\n",
       "      <th>...</th>\n",
       "      <th>subreddit_xboxone</th>\n",
       "      <th>subreddit_xmen</th>\n",
       "      <th>subreddit_xqcow</th>\n",
       "      <th>subreddit_yesyesyesno</th>\n",
       "      <th>subreddit_yesyesyesyesno</th>\n",
       "      <th>subreddit_youdontsurf</th>\n",
       "      <th>subreddit_youseeingthisshit</th>\n",
       "      <th>subreddit_youtube</th>\n",
       "      <th>subreddit_youtubehaiku</th>\n",
       "      <th>subreddit_zelda</th>\n",
       "    </tr>\n",
       "  </thead>\n",
       "  <tbody>\n",
       "    <tr>\n",
       "      <th>0</th>\n",
       "      <td>3.436667</td>\n",
       "      <td>638</td>\n",
       "      <td>1</td>\n",
       "      <td>21835</td>\n",
       "      <td>0</td>\n",
       "      <td>3</td>\n",
       "      <td>21835</td>\n",
       "      <td>13388430</td>\n",
       "      <td>0</td>\n",
       "      <td>0</td>\n",
       "      <td>...</td>\n",
       "      <td>0</td>\n",
       "      <td>0</td>\n",
       "      <td>0</td>\n",
       "      <td>0</td>\n",
       "      <td>0</td>\n",
       "      <td>0</td>\n",
       "      <td>0</td>\n",
       "      <td>0</td>\n",
       "      <td>0</td>\n",
       "      <td>0</td>\n",
       "    </tr>\n",
       "    <tr>\n",
       "      <th>1</th>\n",
       "      <td>2.866389</td>\n",
       "      <td>763</td>\n",
       "      <td>1</td>\n",
       "      <td>24591</td>\n",
       "      <td>0</td>\n",
       "      <td>2</td>\n",
       "      <td>24591</td>\n",
       "      <td>1736233</td>\n",
       "      <td>0</td>\n",
       "      <td>0</td>\n",
       "      <td>...</td>\n",
       "      <td>0</td>\n",
       "      <td>0</td>\n",
       "      <td>0</td>\n",
       "      <td>0</td>\n",
       "      <td>0</td>\n",
       "      <td>0</td>\n",
       "      <td>0</td>\n",
       "      <td>0</td>\n",
       "      <td>0</td>\n",
       "      <td>0</td>\n",
       "    </tr>\n",
       "    <tr>\n",
       "      <th>2</th>\n",
       "      <td>2.263611</td>\n",
       "      <td>1029</td>\n",
       "      <td>1</td>\n",
       "      <td>43666</td>\n",
       "      <td>0</td>\n",
       "      <td>0</td>\n",
       "      <td>43666</td>\n",
       "      <td>18838502</td>\n",
       "      <td>0</td>\n",
       "      <td>0</td>\n",
       "      <td>...</td>\n",
       "      <td>0</td>\n",
       "      <td>0</td>\n",
       "      <td>0</td>\n",
       "      <td>0</td>\n",
       "      <td>0</td>\n",
       "      <td>0</td>\n",
       "      <td>0</td>\n",
       "      <td>0</td>\n",
       "      <td>0</td>\n",
       "      <td>0</td>\n",
       "    </tr>\n",
       "    <tr>\n",
       "      <th>3</th>\n",
       "      <td>2.418889</td>\n",
       "      <td>205</td>\n",
       "      <td>1</td>\n",
       "      <td>18014</td>\n",
       "      <td>0</td>\n",
       "      <td>0</td>\n",
       "      <td>18014</td>\n",
       "      <td>17212058</td>\n",
       "      <td>0</td>\n",
       "      <td>0</td>\n",
       "      <td>...</td>\n",
       "      <td>0</td>\n",
       "      <td>0</td>\n",
       "      <td>0</td>\n",
       "      <td>0</td>\n",
       "      <td>0</td>\n",
       "      <td>0</td>\n",
       "      <td>0</td>\n",
       "      <td>0</td>\n",
       "      <td>0</td>\n",
       "      <td>0</td>\n",
       "    </tr>\n",
       "    <tr>\n",
       "      <th>4</th>\n",
       "      <td>1.941389</td>\n",
       "      <td>162</td>\n",
       "      <td>1</td>\n",
       "      <td>36050</td>\n",
       "      <td>0</td>\n",
       "      <td>5</td>\n",
       "      <td>36050</td>\n",
       "      <td>1496127</td>\n",
       "      <td>0</td>\n",
       "      <td>0</td>\n",
       "      <td>...</td>\n",
       "      <td>0</td>\n",
       "      <td>0</td>\n",
       "      <td>0</td>\n",
       "      <td>0</td>\n",
       "      <td>0</td>\n",
       "      <td>0</td>\n",
       "      <td>0</td>\n",
       "      <td>0</td>\n",
       "      <td>0</td>\n",
       "      <td>0</td>\n",
       "    </tr>\n",
       "  </tbody>\n",
       "</table>\n",
       "<p>5 rows × 1865 columns</p>\n",
       "</div>"
      ],
      "text/plain": [
       "   post_age  num_comments  above_median_comments    ups  gilded  \\\n",
       "0  3.436667           638                      1  21835       0   \n",
       "1  2.866389           763                      1  24591       0   \n",
       "2  2.263611          1029                      1  43666       0   \n",
       "3  2.418889           205                      1  18014       0   \n",
       "4  1.941389           162                      1  36050       0   \n",
       "\n",
       "   num_crossposts  score  subreddit_subscribers  is_funny_title  puppy_title  \\\n",
       "0               3  21835               13388430               0            0   \n",
       "1               2  24591                1736233               0            0   \n",
       "2               0  43666               18838502               0            0   \n",
       "3               0  18014               17212058               0            0   \n",
       "4               5  36050                1496127               0            0   \n",
       "\n",
       "        ...         subreddit_xboxone  subreddit_xmen  subreddit_xqcow  \\\n",
       "0       ...                         0               0                0   \n",
       "1       ...                         0               0                0   \n",
       "2       ...                         0               0                0   \n",
       "3       ...                         0               0                0   \n",
       "4       ...                         0               0                0   \n",
       "\n",
       "   subreddit_yesyesyesno  subreddit_yesyesyesyesno  subreddit_youdontsurf  \\\n",
       "0                      0                         0                      0   \n",
       "1                      0                         0                      0   \n",
       "2                      0                         0                      0   \n",
       "3                      0                         0                      0   \n",
       "4                      0                         0                      0   \n",
       "\n",
       "   subreddit_youseeingthisshit  subreddit_youtube  subreddit_youtubehaiku  \\\n",
       "0                            0                  0                       0   \n",
       "1                            0                  0                       0   \n",
       "2                            0                  0                       0   \n",
       "3                            0                  0                       0   \n",
       "4                            0                  0                       0   \n",
       "\n",
       "   subreddit_zelda  \n",
       "0                0  \n",
       "1                0  \n",
       "2                0  \n",
       "3                0  \n",
       "4                0  \n",
       "\n",
       "[5 rows x 1865 columns]"
      ]
     },
     "execution_count": 33,
     "metadata": {},
     "output_type": "execute_result"
    }
   ],
   "source": [
    "# Dummy variables for the categorical subreddit feature\n",
    "\n",
    "scrape_1_df_numeric = pd.get_dummies(data=scrape_1_df_numeric)\n",
    "scrape_1_df_numeric.head()"
   ]
  },
  {
   "cell_type": "code",
   "execution_count": 34,
   "metadata": {},
   "outputs": [
    {
     "data": {
      "text/plain": [
       "(2500, 1865)"
      ]
     },
     "execution_count": 34,
     "metadata": {},
     "output_type": "execute_result"
    }
   ],
   "source": [
    "# EDA\n",
    "\n",
    "scrape_1_df_numeric.columns\n",
    "scrape_1_df_numeric.shape"
   ]
  },
  {
   "cell_type": "code",
   "execution_count": 35,
   "metadata": {},
   "outputs": [
    {
     "data": {
      "text/html": [
       "<div>\n",
       "<style scoped>\n",
       "    .dataframe tbody tr th:only-of-type {\n",
       "        vertical-align: middle;\n",
       "    }\n",
       "\n",
       "    .dataframe tbody tr th {\n",
       "        vertical-align: top;\n",
       "    }\n",
       "\n",
       "    .dataframe thead th {\n",
       "        text-align: right;\n",
       "    }\n",
       "</style>\n",
       "<table border=\"1\" class=\"dataframe\">\n",
       "  <thead>\n",
       "    <tr style=\"text-align: right;\">\n",
       "      <th></th>\n",
       "      <th>title</th>\n",
       "    </tr>\n",
       "  </thead>\n",
       "  <tbody>\n",
       "    <tr>\n",
       "      <th>0</th>\n",
       "      <td>Ref Gets Punched In The Face and Takes It Like...</td>\n",
       "    </tr>\n",
       "    <tr>\n",
       "      <th>1</th>\n",
       "      <td>He only loves his bed</td>\n",
       "    </tr>\n",
       "    <tr>\n",
       "      <th>2</th>\n",
       "      <td>TIL thanks to a tip from Malcom in the Middle'...</td>\n",
       "    </tr>\n",
       "    <tr>\n",
       "      <th>3</th>\n",
       "      <td>Neighborhood dogs love this UPS guy</td>\n",
       "    </tr>\n",
       "    <tr>\n",
       "      <th>4</th>\n",
       "      <td>They just want him to be part of the fun 😭😁</td>\n",
       "    </tr>\n",
       "  </tbody>\n",
       "</table>\n",
       "</div>"
      ],
      "text/plain": [
       "                                               title\n",
       "0  Ref Gets Punched In The Face and Takes It Like...\n",
       "1                              He only loves his bed\n",
       "2  TIL thanks to a tip from Malcom in the Middle'...\n",
       "3                Neighborhood dogs love this UPS guy\n",
       "4        They just want him to be part of the fun 😭😁"
      ]
     },
     "execution_count": 35,
     "metadata": {},
     "output_type": "execute_result"
    }
   ],
   "source": [
    "# Titles DataFrame\n",
    "\n",
    "scrape_1_df_titles = scrape_1_df[[\"title\"]]\n",
    "scrape_1_df_titles.head()"
   ]
  },
  {
   "cell_type": "code",
   "execution_count": 36,
   "metadata": {},
   "outputs": [],
   "source": [
    "corpus = scrape_1_df_titles[\"title\"].tolist()"
   ]
  },
  {
   "cell_type": "code",
   "execution_count": 37,
   "metadata": {},
   "outputs": [
    {
     "data": {
      "text/plain": [
       "['Ref Gets Punched In The Face and Takes It Like a Champ',\n",
       " 'He only loves his bed',\n",
       " \"TIL thanks to a tip from Malcom in the Middle's music clearance officer, Bryan Cranston received quarterly composing checks for his improvised humming and whistling, which the actor used to fund cast parties.\",\n",
       " 'Neighborhood dogs love this UPS guy',\n",
       " 'They just want him to be part of the fun 😭😁']"
      ]
     },
     "execution_count": 37,
     "metadata": {},
     "output_type": "execute_result"
    }
   ],
   "source": [
    "corpus[0:5]"
   ]
  },
  {
   "cell_type": "markdown",
   "metadata": {},
   "source": [
    "### Predicting comments using TFIDF Vectorization, Logistic Regression, Decision Trees, and Random Forests"
   ]
  },
  {
   "cell_type": "code",
   "execution_count": 38,
   "metadata": {},
   "outputs": [
    {
     "data": {
      "text/plain": [
       "TfidfVectorizer(analyzer='word', binary=False, decode_error='strict',\n",
       "        dtype=<class 'numpy.int64'>, encoding='utf-8', input='content',\n",
       "        lowercase=True, max_df=1.0, max_features=None, min_df=1,\n",
       "        ngram_range=(1, 1), norm='l2', preprocessor=None, smooth_idf=True,\n",
       "        stop_words='english', strip_accents=None, sublinear_tf=False,\n",
       "        token_pattern='(?u)\\\\b\\\\w\\\\w+\\\\b', tokenizer=None, use_idf=True,\n",
       "        vocabulary=None)"
      ]
     },
     "execution_count": 38,
     "metadata": {},
     "output_type": "execute_result"
    }
   ],
   "source": [
    "tvec = TfidfVectorizer(stop_words=\"english\")\n",
    "tvec.fit(corpus)"
   ]
  },
  {
   "cell_type": "code",
   "execution_count": 39,
   "metadata": {},
   "outputs": [],
   "source": [
    "scrape_1_df_titles = pd.DataFrame(tvec.transform(corpus).todense(), columns=tvec.get_feature_names())"
   ]
  },
  {
   "cell_type": "code",
   "execution_count": 40,
   "metadata": {},
   "outputs": [],
   "source": [
    "scrape_1_df_titles.head();"
   ]
  },
  {
   "cell_type": "code",
   "execution_count": 41,
   "metadata": {},
   "outputs": [],
   "source": [
    "# Concating numeric columns DataFrame and titles DataFrame\n",
    "\n",
    "scrape_concated = pd.concat([scrape_1_df_numeric, scrape_1_df_titles], axis=1)"
   ]
  },
  {
   "cell_type": "code",
   "execution_count": 42,
   "metadata": {},
   "outputs": [],
   "source": [
    "scrape_concated.head();"
   ]
  },
  {
   "cell_type": "code",
   "execution_count": 43,
   "metadata": {},
   "outputs": [],
   "source": [
    "features = [col for col in scrape_concated.columns if col not in [\"above_median_comments\", \"num_comments\"]]\n",
    "features;"
   ]
  },
  {
   "cell_type": "markdown",
   "metadata": {},
   "source": [
    "### First Logistic Regression Model"
   ]
  },
  {
   "cell_type": "code",
   "execution_count": 44,
   "metadata": {},
   "outputs": [
    {
     "data": {
      "text/plain": [
       "0.6384"
      ]
     },
     "execution_count": 44,
     "metadata": {},
     "output_type": "execute_result"
    }
   ],
   "source": [
    "X = scrape_concated[features]\n",
    "y = scrape_concated[\"above_median_comments\"]\n",
    "\n",
    "X_train, X_test, y_train, y_test = train_test_split(X, y)\n",
    "\n",
    "logreg = LogisticRegression()\n",
    "\n",
    "ss = StandardScaler()\n",
    "ss.fit(X_train)\n",
    "X_train_scaled = ss.transform(X_train)\n",
    "X_test_scaled = ss.transform(X_test)\n",
    "\n",
    "model = logreg.fit(X_train_scaled, y_train)\n",
    "\n",
    "logreg.score(X_test_scaled, y_test)"
   ]
  },
  {
   "cell_type": "markdown",
   "metadata": {},
   "source": [
    "### GridSearch Logistic Regression"
   ]
  },
  {
   "cell_type": "code",
   "execution_count": 45,
   "metadata": {},
   "outputs": [
    {
     "name": "stdout",
     "output_type": "stream",
     "text": [
      "0.7472\n",
      "{'C': 1.0, 'penalty': 'l1', 'solver': 'liblinear'}\n"
     ]
    }
   ],
   "source": [
    "gs_params = {\n",
    "    'penalty':['l1','l2'],\n",
    "    'solver':['liblinear'],\n",
    "    'C': np.logspace(-5,0,100)\n",
    "}\n",
    "\n",
    "lr_gridsearch = GridSearchCV(LogisticRegression(), gs_params)\n",
    "\n",
    "lr_gridsearch_model = lr_gridsearch.fit(X_train, y_train)\n",
    "\n",
    "print(lr_gridsearch_model.best_score_)\n",
    "\n",
    "print(lr_gridsearch_model.best_params_)"
   ]
  },
  {
   "cell_type": "code",
   "execution_count": 46,
   "metadata": {},
   "outputs": [
    {
     "data": {
      "text/plain": [
       "LogisticRegression(C=1.0, class_weight=None, dual=False, fit_intercept=True,\n",
       "          intercept_scaling=1, max_iter=100, multi_class='ovr', n_jobs=1,\n",
       "          penalty='l1', random_state=None, solver='liblinear', tol=0.0001,\n",
       "          verbose=0, warm_start=False)"
      ]
     },
     "execution_count": 46,
     "metadata": {},
     "output_type": "execute_result"
    }
   ],
   "source": [
    "lr_gridsearch.best_estimator_"
   ]
  },
  {
   "cell_type": "code",
   "execution_count": 47,
   "metadata": {},
   "outputs": [
    {
     "data": {
      "text/plain": [
       "array([[0.01189136, 0.00034034, 0.        , ..., 0.        , 0.        ,\n",
       "        0.        ]])"
      ]
     },
     "execution_count": 47,
     "metadata": {},
     "output_type": "execute_result"
    }
   ],
   "source": [
    "best_lr = lr_gridsearch.best_estimator_\n",
    "\n",
    "best_lr.coef_"
   ]
  },
  {
   "cell_type": "markdown",
   "metadata": {},
   "source": [
    "### Interpreting Logistic Regression Features"
   ]
  },
  {
   "cell_type": "code",
   "execution_count": 48,
   "metadata": {},
   "outputs": [],
   "source": [
    "coef_df = pd.DataFrame({\n",
    "        'coef':best_lr.coef_[0],\n",
    "        'feature':  X.columns\n",
    "    })"
   ]
  },
  {
   "cell_type": "code",
   "execution_count": 118,
   "metadata": {},
   "outputs": [
    {
     "data": {
      "text/html": [
       "<div>\n",
       "<style scoped>\n",
       "    .dataframe tbody tr th:only-of-type {\n",
       "        vertical-align: middle;\n",
       "    }\n",
       "\n",
       "    .dataframe tbody tr th {\n",
       "        vertical-align: top;\n",
       "    }\n",
       "\n",
       "    .dataframe thead th {\n",
       "        text-align: right;\n",
       "    }\n",
       "</style>\n",
       "<table border=\"1\" class=\"dataframe\">\n",
       "  <thead>\n",
       "    <tr style=\"text-align: right;\">\n",
       "      <th></th>\n",
       "      <th>coef</th>\n",
       "      <th>feature</th>\n",
       "      <th>exponential_value</th>\n",
       "    </tr>\n",
       "  </thead>\n",
       "  <tbody>\n",
       "    <tr>\n",
       "      <th>8052</th>\n",
       "      <td>2.404164</td>\n",
       "      <td>trump</td>\n",
       "      <td>11.069174</td>\n",
       "    </tr>\n",
       "    <tr>\n",
       "      <th>3</th>\n",
       "      <td>1.540867</td>\n",
       "      <td>gilded</td>\n",
       "      <td>4.668635</td>\n",
       "    </tr>\n",
       "    <tr>\n",
       "      <th>1564</th>\n",
       "      <td>1.204026</td>\n",
       "      <td>subreddit_popheads</td>\n",
       "      <td>3.333510</td>\n",
       "    </tr>\n",
       "    <tr>\n",
       "      <th>515</th>\n",
       "      <td>1.188626</td>\n",
       "      <td>subreddit_MMORPG</td>\n",
       "      <td>3.282568</td>\n",
       "    </tr>\n",
       "    <tr>\n",
       "      <th>3252</th>\n",
       "      <td>1.185456</td>\n",
       "      <td>comments</td>\n",
       "      <td>3.272179</td>\n",
       "    </tr>\n",
       "  </tbody>\n",
       "</table>\n",
       "</div>"
      ],
      "text/plain": [
       "          coef             feature  exponential_value\n",
       "8052  2.404164               trump          11.069174\n",
       "3     1.540867              gilded           4.668635\n",
       "1564  1.204026  subreddit_popheads           3.333510\n",
       "515   1.188626    subreddit_MMORPG           3.282568\n",
       "3252  1.185456            comments           3.272179"
      ]
     },
     "execution_count": 118,
     "metadata": {},
     "output_type": "execute_result"
    }
   ],
   "source": [
    "coef_df.head()"
   ]
  },
  {
   "cell_type": "code",
   "execution_count": 50,
   "metadata": {},
   "outputs": [],
   "source": [
    "coef_df[\"exponential_value\"] = [(np.exp(i)) for i in coef_df[\"coef\"]]"
   ]
  },
  {
   "cell_type": "code",
   "execution_count": 157,
   "metadata": {},
   "outputs": [],
   "source": [
    "coef_df.sort_values(\"exponential_value\", ascending=False, inplace=True)\n",
    "coef_df.head(10);"
   ]
  },
  {
   "cell_type": "code",
   "execution_count": 164,
   "metadata": {},
   "outputs": [
    {
     "data": {
      "text/plain": [
       "Text(0,0.5,'Feature')"
      ]
     },
     "execution_count": 164,
     "metadata": {},
     "output_type": "execute_result"
    },
    {
     "data": {
      "image/png": "[encoded data removed]",
      "text/plain": [
       "<matplotlib.figure.Figure at 0x1a32ea8860>"
      ]
     },
     "metadata": {},
     "output_type": "display_data"
    }
   ],
   "source": [
    "coef_features_top = coef_df.sort_values(\"exponential_value\", ascending=False).head(10)\n",
    "\n",
    "coef_features_top = coef_features_top.sort_values(\"exponential_value\", ascending=True)\n",
    "\n",
    "coef_features_top.plot(kind=\"barh\", x = \"feature\", y = \"exponential_value\", legend=False, color=\"blue\")\n",
    "\n",
    "plt.title(\"Top 10 Hot Reddit Post Features\")\n",
    "plt.xlabel(\"Exponential Value\")\n",
    "plt.ylabel(\"Feature\")"
   ]
  },
  {
   "cell_type": "code",
   "execution_count": 172,
   "metadata": {},
   "outputs": [],
   "source": [
    "coef_features_bottom = coef_df.sort_values(\"exponential_value\", ascending=False).tail(10)\n",
    "coef_features_bottom;"
   ]
  },
  {
   "cell_type": "code",
   "execution_count": 165,
   "metadata": {},
   "outputs": [
    {
     "data": {
      "text/plain": [
       "Text(0,0.5,'Feature')"
      ]
     },
     "execution_count": 165,
     "metadata": {},
     "output_type": "execute_result"
    },
    {
     "data": {
      "image/png": "[encoded data removed]",
      "text/plain": [
       "<matplotlib.figure.Figure at 0x1a32c0b0b8>"
      ]
     },
     "metadata": {},
     "output_type": "display_data"
    }
   ],
   "source": [
    "coef_features_bottom = coef_df.sort_values(\"exponential_value\", ascending=False).tail(10)\n",
    "\n",
    "coef_features_bottom = coef_features_bottom.sort_values(\"exponential_value\", ascending=True)\n",
    "\n",
    "coef_features_bottom.plot(kind=\"barh\", x = \"feature\", y = \"exponential_value\", legend=False, color=\"blue\")\n",
    "\n",
    "plt.title(\"Bottom 10 Hot Reddit Post Features\")\n",
    "plt.xlabel(\"Exponential Value\")\n",
    "plt.ylabel(\"Feature\")"
   ]
  },
  {
   "cell_type": "markdown",
   "metadata": {
    "focus": false,
    "id": "04563b69-f7b6-466f-9d65-fc62c9ddee6a"
   },
   "source": [
    "## Predicting comments using Random Forests + Another Classifier"
   ]
  },
  {
   "cell_type": "markdown",
   "metadata": {
    "focus": false,
    "id": "a7afb2c0-d41e-4779-8216-91cd8dd4473f"
   },
   "source": [
    "#### Thought experiment: What is the baseline accuracy for this model?"
   ]
  },
  {
   "cell_type": "markdown",
   "metadata": {
    "focus": false,
    "id": "87a17d3d-b7f4-4747-9f75-f9af1d18a174"
   },
   "source": [
    "The baseline accuracy for this model is 50%. If we are using the median to build a binary classifier, before even examing the data, we are assuming half of the posts have above the median number of comments, and half of the posts have below the median number of comments."
   ]
  },
  {
   "cell_type": "markdown",
   "metadata": {
    "focus": false,
    "id": "4fb29de2-5b98-474c-a4ad-5170b72b9aea"
   },
   "source": [
    "### Create a Random Forest model to predict High/Low number of comments using Sklearn. Start by ONLY using the subreddit as a feature. "
   ]
  },
  {
   "cell_type": "code",
   "execution_count": 55,
   "metadata": {},
   "outputs": [
    {
     "data": {
      "text/plain": [
       "0.6384"
      ]
     },
     "execution_count": 55,
     "metadata": {},
     "output_type": "execute_result"
    }
   ],
   "source": [
    "# Random Forest with just subreddits as features\n",
    "\n",
    "subreddit_list_features = pd.get_dummies(data = scrape_1_df[\"subreddit\"], drop_first = True, prefix=\"subreddit\").columns\n",
    "\n",
    "X = scrape_concated[subreddit_list_features]\n",
    "y = scrape_concated[\"above_median_comments\"]\n",
    "\n",
    "X_train, X_test, y_train, y_test = train_test_split(X, y)\n",
    "\n",
    "rf = RandomForestClassifier()\n",
    "\n",
    "rf.fit(X_train, y_train)\n",
    "\n",
    "rf.score(X_test, y_test)"
   ]
  },
  {
   "cell_type": "markdown",
   "metadata": {},
   "source": [
    "### Decision Tree with just subreddits as features\n"
   ]
  },
  {
   "cell_type": "code",
   "execution_count": 56,
   "metadata": {
    "focus": false,
    "id": "ddbc6159-6854-4ca7-857f-bfecdaf6d9c2"
   },
   "outputs": [
    {
     "data": {
      "text/plain": [
       "0.6064"
      ]
     },
     "execution_count": 56,
     "metadata": {},
     "output_type": "execute_result"
    }
   ],
   "source": [
    "subreddit_list_features = pd.get_dummies(data = scrape_1_df[\"subreddit\"], drop_first = True, prefix=\"subreddit\").columns\n",
    "\n",
    "X = scrape_concated[subreddit_list_features]\n",
    "y = scrape_concated[\"above_median_comments\"]\n",
    "\n",
    "X_train, X_test, y_train, y_test = train_test_split(X, y)\n",
    "\n",
    "tree = DecisionTreeClassifier()\n",
    "\n",
    "tree.fit(X_train, y_train)\n",
    "\n",
    "tree.score(X_test, y_test)"
   ]
  },
  {
   "cell_type": "markdown",
   "metadata": {},
   "source": [
    "### Random Forest with all features (subreddits and numeric) tested with cross validation score"
   ]
  },
  {
   "cell_type": "code",
   "execution_count": 57,
   "metadata": {},
   "outputs": [
    {
     "data": {
      "text/plain": [
       "0.665192215975119"
      ]
     },
     "execution_count": 57,
     "metadata": {},
     "output_type": "execute_result"
    }
   ],
   "source": [
    "features = [col for col in scrape_concated.columns if col not in [\"above_median_comments\", \"num_comments\"]]\n",
    "\n",
    "X = scrape_concated[features]\n",
    "y = scrape_concated[\"above_median_comments\"]\n",
    "\n",
    "cross_score = cross_val_score(rf, X, y, n_jobs = -1).mean()\n",
    "\n",
    "cross_score"
   ]
  },
  {
   "cell_type": "markdown",
   "metadata": {
    "focus": false,
    "id": "9367beff-72ba-4768-a0ba-a50b335de61d"
   },
   "source": [
    "#### Use cross-validation in scikit-learn to evaluate the model above. \n",
    "- Evaluate the accuracy of the model, as well as any other metrics you feel are appropriate. "
   ]
  },
  {
   "cell_type": "markdown",
   "metadata": {},
   "source": [
    "### Random Forest with all features (subreddits and numeric)"
   ]
  },
  {
   "cell_type": "code",
   "execution_count": 58,
   "metadata": {},
   "outputs": [
    {
     "data": {
      "text/plain": [
       "(0.7450666666666667,\n",
       " {'max_depth': 4, 'min_samples_split': 5, 'n_estimators': 8})"
      ]
     },
     "execution_count": 58,
     "metadata": {},
     "output_type": "execute_result"
    }
   ],
   "source": [
    "features = [col for col in scrape_concated.columns if col not in [\"above_median_comments\", \"num_comments\"]]\n",
    "\n",
    "X = scrape_concated[features]\n",
    "y = scrape_concated[\"above_median_comments\"]\n",
    "\n",
    "X_train, X_test, y_train, y_test = train_test_split(X, y)\n",
    "\n",
    "gs_params = {\n",
    "    \"n_estimators\": [8, 9, 10, 11, 12],\n",
    "    \"min_samples_split\": [2, 3, 4, 5, 6],\n",
    "    \"max_depth\": [1, 2, 3, 4, 5]\n",
    "}\n",
    "\n",
    "lr_gridsearch = GridSearchCV(RandomForestClassifier(), gs_params)\n",
    "\n",
    "lr_gridsearch_model = lr_gridsearch.fit(X_train, y_train)\n",
    "\n",
    "best_score = (lr_gridsearch_model.best_score_)\n",
    "\n",
    "best_params = (lr_gridsearch_model.best_params_)\n",
    "\n",
    "best_score, best_params"
   ]
  },
  {
   "cell_type": "markdown",
   "metadata": {},
   "source": [
    "### Decision Tree with all features (subreddits and numeric)"
   ]
  },
  {
   "cell_type": "code",
   "execution_count": 59,
   "metadata": {
    "focus": false,
    "id": "588f9845-6143-4bcc-bfd1-85d45b79303d"
   },
   "outputs": [
    {
     "data": {
      "text/plain": [
       "(0.7498666666666667,\n",
       " {'max_depth': 3, 'min_samples_leaf': 1, 'min_samples_split': 2})"
      ]
     },
     "execution_count": 59,
     "metadata": {},
     "output_type": "execute_result"
    }
   ],
   "source": [
    "features = [col for col in scrape_concated.columns if col not in [\"above_median_comments\", \"num_comments\"]]\n",
    "\n",
    "X = scrape_concated[features]\n",
    "y = scrape_concated[\"above_median_comments\"]\n",
    "\n",
    "X_train, X_test, y_train, y_test = train_test_split(X, y)\n",
    "\n",
    "gs_params = {\n",
    "    \"max_depth\": [1, 2, 3, 4, 5],\n",
    "    \"min_samples_split\": [2, 3, 4, 5, 6],\n",
    "    \"min_samples_leaf\": [1, 2, 3, 4, 5]\n",
    "}\n",
    "\n",
    "lr_gridsearch = GridSearchCV(DecisionTreeClassifier(), gs_params)\n",
    "\n",
    "lr_gridsearch_model = lr_gridsearch.fit(X_train, y_train)\n",
    "\n",
    "best_score = (lr_gridsearch_model.best_score_)\n",
    "\n",
    "best_params = (lr_gridsearch_model.best_params_)\n",
    "\n",
    "best_score, best_params"
   ]
  },
  {
   "cell_type": "markdown",
   "metadata": {},
   "source": [
    "# Executive Summary"
   ]
  },
  {
   "cell_type": "markdown",
   "metadata": {},
   "source": [
    "Comments can help to predict a Hot post, however, it appears that Reddit determines a Hot post by numerous factors including Subreddit, Upvotes, and Score (likely among many others) <br>\n",
    "\n",
    "In order for a post to become Hot, the post must quickly gain popularity in its Subreddit and with luck “snowball” onto the home page in Popular and All <br>\n",
    "\n",
    "The home page offers “the hottest of the Hot” from many different Subreddits <br>\n",
    "\n",
    "Engaging, high quality, genuine/unique, and relevant content rises regardless of Subreddit, and having Subreddit members actively “scoring” New posts absolutely helps <br>\n",
    "\n",
    "Reddit is for the people, by the people: it is very unlikely to “game the system” and create a Hot post <br>"
   ]
  }
 ],
 "metadata": {
  "anaconda-cloud": {},
  "kernelspec": {
   "display_name": "Python 3",
   "language": "python",
   "name": "python3"
  },
  "language_info": {
   "codemirror_mode": {
    "name": "ipython",
    "version": 3
   },
   "file_extension": ".py",
   "mimetype": "text/x-python",
   "name": "python",
   "nbconvert_exporter": "python",
   "pygments_lexer": "ipython3",
   "version": "3.6.4"
  },
  "varInspector": {
   "cols": {
    "lenName": 16,
    "lenType": 16,
    "lenVar": 40
   },
   "kernels_config": {
    "python": {
     "delete_cmd_postfix": "",
     "delete_cmd_prefix": "del ",
     "library": "var_list.py",
     "varRefreshCmd": "print(var_dic_list())"
    },
    "r": {
     "delete_cmd_postfix": ") ",
     "delete_cmd_prefix": "rm(",
     "library": "var_list.r",
     "varRefreshCmd": "cat(var_dic_list()) "
    }
   },
   "types_to_exclude": [
    "module",
    "function",
    "builtin_function_or_method",
    "instance",
    "_Feature"
   ],
   "window_display": false
  }
 },
 "nbformat": 4,
 "nbformat_minor": 1
}
